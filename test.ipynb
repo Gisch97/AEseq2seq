{
 "cells": [
  {
   "cell_type": "code",
   "execution_count": 1,
   "metadata": {},
   "outputs": [
    {
     "name": "stdout",
     "output_type": "stream",
     "text": [
      "[6, 1, 7, 9, 4, 0, 2, 8, 3, 5]\n"
     ]
    }
   ],
   "source": [
    "import random\n",
    "\n",
    "lista = list(range(10))\n",
    "random.shuffle(lista)\n",
    "print(lista)"
   ]
  },
  {
   "cell_type": "code",
   "execution_count": 37,
   "metadata": {},
   "outputs": [
    {
     "data": {
      "text/plain": [
       "torch.Size([1, 4, 5])"
      ]
     },
     "execution_count": 37,
     "metadata": {},
     "output_type": "execute_result"
    }
   ],
   "source": [
    "import torch as tr\n",
    "\n",
    "x = tr.tensor(\n",
    "    [\n",
    "        [\n",
    "            [1, 0, 0, 0, 0],\n",
    "            [0, 0, 1, 0, 0],\n",
    "            [0, 0, 0, 1, 0],\n",
    "            [0, 1, 0, 0, 1],\n",
    "        ]\n",
    "    ]\n",
    ")\n",
    "x.shape"
   ]
  },
  {
   "cell_type": "code",
   "execution_count": 1,
   "metadata": {},
   "outputs": [
    {
     "name": "stdout",
     "output_type": "stream",
     "text": [
      "tensor([[1, 0, 0, 0, 0],\n",
      "        [0, 0, 1, 0, 0],\n",
      "        [0, 0, 0, 1, 0],\n",
      "        [0, 1, 0, 0, 1]])\n",
      "tensor([[1, 1, 0, 0, 0],\n",
      "        [0, 0, 1, 0, 0],\n",
      "        [0, 0, 0, 1, 0],\n",
      "        [0, 0, 0, 0, 1]])\n"
     ]
    }
   ],
   "source": [
    "import random\n",
    "\n",
    "import torch as tr\n",
    "\n",
    "x = tr.tensor(\n",
    "    [\n",
    "        [1, 0, 0, 0, 0],\n",
    "        [0, 0, 1, 0, 0],\n",
    "        [0, 0, 0, 1, 0],\n",
    "        [0, 1, 0, 0, 1],\n",
    "    ]\n",
    ")\n",
    "x.shape\n",
    "\n",
    "x_l = [_ for _ in range(x.shape[-1])]\n",
    "random.shuffle(x_l)\n",
    "v = [0, 1, 2, 3]\n",
    "\n",
    "x2 = x\n",
    "print(x2)\n",
    "N = 2\n",
    "for s in range(N):\n",
    "    nt = x_l[-1]\n",
    "    x_l.pop()\n",
    "    random.shuffle(v)\n",
    "    val = tr.zeros([4], dtype=tr.float)\n",
    "    val[v[0]] = 1.0\n",
    "    x[:, nt] = val\n",
    "print(x2)"
   ]
  },
  {
   "cell_type": "code",
   "execution_count": 2,
   "metadata": {},
   "outputs": [],
   "source": [
    "def noise(x, N=0):\n",
    "    assert N < x.shape[-1], \"N should be lower than the shape of x (starting on 0)\"\n",
    "    x_l = [_ for _ in range(x.shape[-1])]\n",
    "    random.shuffle(x_l)\n",
    "    v = [0, 1, 2, 3]\n",
    "\n",
    "    for _ in range(N):\n",
    "        pos = x_l[-1]\n",
    "        x_l.pop()\n",
    "        random.shuffle(v)\n",
    "        nt = tr.zeros([4], dtype=tr.float)\n",
    "        nt[v[0]] = 1.0\n",
    "        x[:, pos] = nt\n",
    "    return x"
   ]
  },
  {
   "cell_type": "code",
   "execution_count": 3,
   "metadata": {},
   "outputs": [
    {
     "name": "stdout",
     "output_type": "stream",
     "text": [
      "torch.Size([4, 5])\n",
      "tensor([[0, 0, 1, 1, 1],\n",
      "        [1, 0, 0, 0, 0],\n",
      "        [0, 0, 0, 0, 0],\n",
      "        [0, 1, 0, 0, 0]])\n"
     ]
    }
   ],
   "source": [
    "x = tr.tensor(\n",
    "    [\n",
    "        [1, 0, 0, 0, 0],\n",
    "        [0, 0, 1, 0, 0],\n",
    "        [0, 0, 0, 1, 0],\n",
    "        [0, 1, 0, 0, 1],\n",
    "    ]\n",
    ")\n",
    "print(x.shape)\n",
    "\n",
    "x = noise(x, N=4)\n",
    "print(x)"
   ]
  },
  {
   "cell_type": "code",
   "execution_count": 5,
   "metadata": {},
   "outputs": [],
   "source": [
    "import torch as tr\n",
    "\n",
    "def add_noise(x, n_swaps=0): \n",
    "\n",
    "    if n_swaps == 0:\n",
    "        return x\n",
    "\n",
    "    if n_swaps > x.shape[-1]:\n",
    "        n_swaps = x.shape[-1]\n",
    "        \n",
    "    x_l = [_ for _ in range(x.shape[-1])]\n",
    "    random.shuffle(x_l)\n",
    "    v = [0, 1, 2, 3]\n",
    "\n",
    "    for i in range(n_swaps): \n",
    "        nt = tr.zeros([4], dtype=tr.float)\n",
    "        random.shuffle(v)\n",
    "        nt[v[0]] = 1.0\n",
    "        x[:, x_l[i]] = nt\n",
    "    return x\n"
   ]
  },
  {
   "cell_type": "code",
   "execution_count": 2,
   "metadata": {},
   "outputs": [
    {
     "name": "stdout",
     "output_type": "stream",
     "text": [
      "tensor([[1, 0, 0, 0, 0],\n",
      "        [0, 1, 0, 0, 0],\n",
      "        [0, 0, 1, 0, 0],\n",
      "        [0, 0, 0, 1, 1]])\n",
      "tensor([[1, 0, 0, 0, 0],\n",
      "        [0, 0, 0, 1, 1],\n",
      "        [0, 0, 1, 0, 0],\n",
      "        [0, 1, 0, 0, 0]])\n"
     ]
    }
   ],
   "source": [
    "import torch as tr \n",
    "import random\n",
    "from typing import Union\n",
    "\n",
    "x = tr.tensor(\n",
    "    [\n",
    "        [1, 0, 0, 0, 0],\n",
    "        [0, 1, 0, 0, 0],\n",
    "        [0, 0, 1, 0, 0],\n",
    "        [0, 0, 0, 1, 1],\n",
    "    ]\n",
    ")\n",
    " \n",
    "def add_noise(x: tr.Tensor, swaps: Union[int,float] = 0, mode: str = 'perc') -> tr.Tensor:\n",
    "    \"\"\"\n",
    "    Introduces noise into the tensor `x` by modifying some of its columns with random values.\n",
    "\n",
    "    Parameters:\n",
    "    x (torch.Tensor): Input tensor of size (N, len), where N=4 is the number of One-Hot dimension and len is the number of nucleotides.\n",
    "    swaps (int or float, optional): Number of swaps to perform. Can be:\n",
    "        - A positive integer, specifying the exact number of swaps.\n",
    "        - A value between 0 and 1, interpreted as a percentage of the number of columns.\n",
    "        - 0 (default), meaning no changes are made.\n",
    "    mode (str, optional): Interpretation mode of `swaps`.\n",
    "        - 'perc' (default): If `swaps` is 1, all columns are replaced.\n",
    "        - 'int': `swaps` is treated as an absolute number of swaps.\n",
    "\n",
    "    Returns:\n",
    "    torch.Tensor: Modified tensor with added noise.\n",
    "    \"\"\"\n",
    "    len = x.shape[-1]\n",
    "    if swaps == 0:\n",
    "        return x\n",
    "    elif swaps > 0 and swaps < 1: \n",
    "        swaps = round(len * swaps)\n",
    "    elif (mode == 'perc' and swaps == 1) or swaps > len:\n",
    "        swaps = len\n",
    "    \n",
    "    rand_nt = [_ for _ in range(len)]\n",
    "    random.shuffle(rand_nt)\n",
    "    v = [0, 1, 2, 3] \n",
    "    \n",
    "    for i in range(swaps): \n",
    "        nt = tr.zeros([4], dtype=tr.float)\n",
    "        random.shuffle(v)\n",
    "        nt[v[0]] = 1.0\n",
    "        x[:, rand_nt[i]] = nt\n",
    "    return x\n",
    "\n",
    "print(x)  \n",
    "add_noise(x, swaps=1, mode='perc')\n",
    "print(x)"
   ]
  },
  {
   "cell_type": "code",
   "execution_count": 3,
   "metadata": {},
   "outputs": [
    {
     "data": {
      "text/plain": [
       "torch.Size([4, 5])"
      ]
     },
     "execution_count": 3,
     "metadata": {},
     "output_type": "execute_result"
    }
   ],
   "source": [
    "x.shape"
   ]
  },
  {
   "cell_type": "code",
   "execution_count": 9,
   "metadata": {},
   "outputs": [
    {
     "name": "stdout",
     "output_type": "stream",
     "text": [
      "tensor([[1, 0, 0, 0, 0],\n",
      "        [0, 1, 0, 0, 0],\n",
      "        [0, 0, 1, 0, 0],\n",
      "        [0, 0, 0, 1, 1]])\n",
      "torch.Size([4, 5])\n",
      "++++++++++++++++++++++++++++++++++++\n",
      "tensor([[1, 0, 0, 0, 0],\n",
      "        [0, 1, 0, 1, 0],\n",
      "        [0, 0, 1, 0, 0],\n",
      "        [0, 0, 0, 0, 1]])\n"
     ]
    }
   ],
   "source": [
    "x = tr.tensor(\n",
    "    [\n",
    "        [1, 0, 0, 0, 0],\n",
    "        [0, 1, 0, 0, 0],\n",
    "        [0, 0, 1, 0, 0],\n",
    "        [0, 0, 0, 1, 1],\n",
    "    ]\n",
    ")\n",
    "print(x)  \n",
    "print(x.shape)  \n",
    "print('++++++++++++++++++++++++++++++++++++')  \n",
    "\n",
    "add_noise(x, swaps=0.2, mode='int')\n",
    "print(x)"
   ]
  },
  {
   "cell_type": "code",
   "execution_count": 91,
   "metadata": {},
   "outputs": [
    {
     "name": "stdout",
     "output_type": "stream",
     "text": [
      "tensor([[1, 0, 0, 0, 0],\n",
      "        [0, 1, 0, 0, 0],\n",
      "        [0, 0, 1, 0, 0],\n",
      "        [0, 0, 0, 1, 1]])\n",
      "n_swaps = 5\n",
      "rand_nt = [3, 2, 0, 4, 1]\n",
      "tensor([[0, 0, 0, 0, 0],\n",
      "        [0, 0, 1, 0, 0],\n",
      "        [1, 1, 0, 1, 1],\n",
      "        [0, 0, 0, 0, 0]])\n"
     ]
    }
   ],
   "source": [
    "x = tr.tensor(\n",
    "    [\n",
    "        [1, 0, 0, 0, 0],\n",
    "        [0, 1, 0, 0, 0],\n",
    "        [0, 0, 1, 0, 0],\n",
    "        [0, 0, 0, 1, 1],\n",
    "    ]\n",
    ")\n",
    "print(x) \n",
    "add_noise(x, swaps=1, mode='perc')\n",
    "print(x)"
   ]
  },
  {
   "cell_type": "code",
   "execution_count": null,
   "metadata": {},
   "outputs": [
    {
     "name": "stdout",
     "output_type": "stream",
     "text": [
      "torch.Size([4, 5])\n",
      "tensor([[1, 0, 0, 0, 0],\n",
      "        [0, 1, 0, 0, 0],\n",
      "        [0, 0, 1, 0, 0],\n",
      "        [0, 0, 0, 1, 1]])\n",
      "tensor([[1, 1, 0, 0, 0],\n",
      "        [0, 0, 0, 0, 0],\n",
      "        [0, 0, 0, 0, 0],\n",
      "        [0, 0, 1, 1, 1]])\n"
     ]
    }
   ],
   "source": [
    "x = tr.tensor(\n",
    "    [\n",
    "        [1, 0, 0, 0, 0],\n",
    "        [0, 1, 0, 0, 0],\n",
    "        [0, 0, 1, 0, 0],\n",
    "        [0, 0, 0, 1, 1],\n",
    "    ]\n",
    ")\n",
    "\n",
    "print(x.shape)\n",
    "print(x)\n",
    "\n",
    "x = add_noise(x, swaps=2)\n",
    "print(x)"
   ]
  },
  {
   "cell_type": "code",
   "execution_count": null,
   "metadata": {},
   "outputs": [],
   "source": []
  }
 ],
 "metadata": {
  "kernelspec": {
   "display_name": "Experiments",
   "language": "python",
   "name": "python3"
  },
  "language_info": {
   "codemirror_mode": {
    "name": "ipython",
    "version": 3
   },
   "file_extension": ".py",
   "mimetype": "text/x-python",
   "name": "python",
   "nbconvert_exporter": "python",
   "pygments_lexer": "ipython3",
   "version": "3.10.16"
  }
 },
 "nbformat": 4,
 "nbformat_minor": 2
}
