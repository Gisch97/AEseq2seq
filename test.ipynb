{
 "cells": [
  {
   "cell_type": "code",
   "execution_count": 1,
   "metadata": {},
   "outputs": [
    {
     "name": "stdout",
     "output_type": "stream",
     "text": [
      "[6, 1, 7, 9, 4, 0, 2, 8, 3, 5]\n"
     ]
    }
   ],
   "source": [
    "import random\n",
    "\n",
    "lista = list(range(10))\n",
    "random.shuffle(lista)\n",
    "print(lista)"
   ]
  },
  {
   "cell_type": "code",
   "execution_count": 37,
   "metadata": {},
   "outputs": [
    {
     "data": {
      "text/plain": [
       "torch.Size([1, 4, 5])"
      ]
     },
     "execution_count": 37,
     "metadata": {},
     "output_type": "execute_result"
    }
   ],
   "source": [
    "import torch as tr\n",
    "\n",
    "x = tr.tensor(\n",
    "    [\n",
    "        [\n",
    "            [1, 0, 0, 0, 0],\n",
    "            [0, 0, 1, 0, 0],\n",
    "            [0, 0, 0, 1, 0],\n",
    "            [0, 1, 0, 0, 1],\n",
    "        ]\n",
    "    ]\n",
    ")\n",
    "x.shape"
   ]
  },
  {
   "cell_type": "code",
   "execution_count": 1,
   "metadata": {},
   "outputs": [
    {
     "name": "stdout",
     "output_type": "stream",
     "text": [
      "tensor([[1, 0, 0, 0, 0],\n",
      "        [0, 0, 1, 0, 0],\n",
      "        [0, 0, 0, 1, 0],\n",
      "        [0, 1, 0, 0, 1]])\n",
      "tensor([[1, 1, 0, 0, 0],\n",
      "        [0, 0, 1, 0, 0],\n",
      "        [0, 0, 0, 1, 0],\n",
      "        [0, 0, 0, 0, 1]])\n"
     ]
    }
   ],
   "source": [
    "import random\n",
    "\n",
    "import torch as tr\n",
    "\n",
    "x = tr.tensor(\n",
    "    [\n",
    "        [1, 0, 0, 0, 0],\n",
    "        [0, 0, 1, 0, 0],\n",
    "        [0, 0, 0, 1, 0],\n",
    "        [0, 1, 0, 0, 1],\n",
    "    ]\n",
    ")\n",
    "x.shape\n",
    "\n",
    "x_l = [_ for _ in range(x.shape[-1])]\n",
    "random.shuffle(x_l)\n",
    "v = [0, 1, 2, 3]\n",
    "\n",
    "x2 = x\n",
    "print(x2)\n",
    "N = 2\n",
    "for s in range(N):\n",
    "    nt = x_l[-1]\n",
    "    x_l.pop()\n",
    "    random.shuffle(v)\n",
    "    val = tr.zeros([4], dtype=tr.float)\n",
    "    val[v[0]] = 1.0\n",
    "    x[:, nt] = val\n",
    "print(x2)"
   ]
  },
  {
   "cell_type": "code",
   "execution_count": 2,
   "metadata": {},
   "outputs": [],
   "source": [
    "def noise(x, N=0):\n",
    "    assert N < x.shape[-1], \"N should be lower than the shape of x (starting on 0)\"\n",
    "    x_l = [_ for _ in range(x.shape[-1])]\n",
    "    random.shuffle(x_l)\n",
    "    v = [0, 1, 2, 3]\n",
    "\n",
    "    for _ in range(N):\n",
    "        pos = x_l[-1]\n",
    "        x_l.pop()\n",
    "        random.shuffle(v)\n",
    "        nt = tr.zeros([4], dtype=tr.float)\n",
    "        nt[v[0]] = 1.0\n",
    "        x[:, pos] = nt\n",
    "    return x"
   ]
  },
  {
   "cell_type": "code",
   "execution_count": 3,
   "metadata": {},
   "outputs": [
    {
     "name": "stdout",
     "output_type": "stream",
     "text": [
      "torch.Size([4, 5])\n",
      "tensor([[0, 0, 1, 1, 1],\n",
      "        [1, 0, 0, 0, 0],\n",
      "        [0, 0, 0, 0, 0],\n",
      "        [0, 1, 0, 0, 0]])\n"
     ]
    }
   ],
   "source": [
    "x = tr.tensor(\n",
    "    [\n",
    "        [1, 0, 0, 0, 0],\n",
    "        [0, 0, 1, 0, 0],\n",
    "        [0, 0, 0, 1, 0],\n",
    "        [0, 1, 0, 0, 1],\n",
    "    ]\n",
    ")\n",
    "print(x.shape)\n",
    "\n",
    "x = noise(x, N=4)\n",
    "print(x)"
   ]
  },
  {
   "cell_type": "code",
   "execution_count": 5,
   "metadata": {},
   "outputs": [],
   "source": [
    "import torch as tr\n",
    "\n",
    "def add_noise(x, n_swaps=0): \n",
    "\n",
    "    if n_swaps == 0:\n",
    "        return x\n",
    "\n",
    "    if n_swaps > x.shape[-1]:\n",
    "        n_swaps = x.shape[-1]\n",
    "        \n",
    "    x_l = [_ for _ in range(x.shape[-1])]\n",
    "    random.shuffle(x_l)\n",
    "    v = [0, 1, 2, 3]\n",
    "\n",
    "    for i in range(n_swaps): \n",
    "        nt = tr.zeros([4], dtype=tr.float)\n",
    "        random.shuffle(v)\n",
    "        nt[v[0]] = 1.0\n",
    "        x[:, x_l[i]] = nt\n",
    "    return x\n"
   ]
  },
  {
   "cell_type": "code",
   "execution_count": 2,
   "metadata": {},
   "outputs": [
    {
     "name": "stdout",
     "output_type": "stream",
     "text": [
      "tensor([[1, 0, 0, 0, 0],\n",
      "        [0, 1, 0, 0, 0],\n",
      "        [0, 0, 1, 0, 0],\n",
      "        [0, 0, 0, 1, 1]])\n",
      "tensor([[1, 0, 0, 0, 0],\n",
      "        [0, 0, 0, 1, 1],\n",
      "        [0, 0, 1, 0, 0],\n",
      "        [0, 1, 0, 0, 0]])\n"
     ]
    }
   ],
   "source": [
    "import torch as tr \n",
    "import random\n",
    "from typing import Union\n",
    "\n",
    "x = tr.tensor(\n",
    "    [\n",
    "        [1, 0, 0, 0, 0],\n",
    "        [0, 1, 0, 0, 0],\n",
    "        [0, 0, 1, 0, 0],\n",
    "        [0, 0, 0, 1, 1],\n",
    "    ]\n",
    ")\n",
    " \n",
    "def add_noise(x: tr.Tensor, swaps: Union[int,float] = 0, mode: str = 'perc') -> tr.Tensor:\n",
    "    \"\"\"\n",
    "    Introduces noise into the tensor `x` by modifying some of its columns with random values.\n",
    "\n",
    "    Parameters:\n",
    "    x (torch.Tensor): Input tensor of size (N, len), where N=4 is the number of One-Hot dimension and len is the number of nucleotides.\n",
    "    swaps (int or float, optional): Number of swaps to perform. Can be:\n",
    "        - A positive integer, specifying the exact number of swaps.\n",
    "        - A value between 0 and 1, interpreted as a percentage of the number of columns.\n",
    "        - 0 (default), meaning no changes are made.\n",
    "    mode (str, optional): Interpretation mode of `swaps`.\n",
    "        - 'perc' (default): If `swaps` is 1, all columns are replaced.\n",
    "        - 'int': `swaps` is treated as an absolute number of swaps.\n",
    "\n",
    "    Returns:\n",
    "    torch.Tensor: Modified tensor with added noise.\n",
    "    \"\"\"\n",
    "    len = x.shape[-1]\n",
    "    if swaps == 0:\n",
    "        return x\n",
    "    elif swaps > 0 and swaps < 1: \n",
    "        swaps = round(len * swaps)\n",
    "    elif (mode == 'perc' and swaps == 1) or swaps > len:\n",
    "        swaps = len\n",
    "    \n",
    "    rand_nt = [_ for _ in range(len)]\n",
    "    random.shuffle(rand_nt)\n",
    "    v = [0, 1, 2, 3] \n",
    "    \n",
    "    for i in range(swaps): \n",
    "        nt = tr.zeros([4], dtype=tr.float)\n",
    "        random.shuffle(v)\n",
    "        nt[v[0]] = 1.0\n",
    "        x[:, rand_nt[i]] = nt\n",
    "    return x\n",
    "\n",
    "print(x)  \n",
    "add_noise(x, swaps=1, mode='perc')\n",
    "print(x)"
   ]
  },
  {
   "cell_type": "code",
   "execution_count": 3,
   "metadata": {},
   "outputs": [
    {
     "data": {
      "text/plain": [
       "torch.Size([4, 5])"
      ]
     },
     "execution_count": 3,
     "metadata": {},
     "output_type": "execute_result"
    }
   ],
   "source": [
    "x.shape"
   ]
  },
  {
   "cell_type": "code",
   "execution_count": 9,
   "metadata": {},
   "outputs": [
    {
     "name": "stdout",
     "output_type": "stream",
     "text": [
      "tensor([[1, 0, 0, 0, 0],\n",
      "        [0, 1, 0, 0, 0],\n",
      "        [0, 0, 1, 0, 0],\n",
      "        [0, 0, 0, 1, 1]])\n",
      "torch.Size([4, 5])\n",
      "++++++++++++++++++++++++++++++++++++\n",
      "tensor([[1, 0, 0, 0, 0],\n",
      "        [0, 1, 0, 1, 0],\n",
      "        [0, 0, 1, 0, 0],\n",
      "        [0, 0, 0, 0, 1]])\n"
     ]
    }
   ],
   "source": [
    "x = tr.tensor(\n",
    "    [\n",
    "        [1, 0, 0, 0, 0],\n",
    "        [0, 1, 0, 0, 0],\n",
    "        [0, 0, 1, 0, 0],\n",
    "        [0, 0, 0, 1, 1],\n",
    "    ]\n",
    ")\n",
    "print(x)  \n",
    "print(x.shape)  \n",
    "print('++++++++++++++++++++++++++++++++++++')  \n",
    "\n",
    "add_noise(x, swaps=0.2, mode='int')\n",
    "print(x)"
   ]
  },
  {
   "cell_type": "code",
   "execution_count": 91,
   "metadata": {},
   "outputs": [
    {
     "name": "stdout",
     "output_type": "stream",
     "text": [
      "tensor([[1, 0, 0, 0, 0],\n",
      "        [0, 1, 0, 0, 0],\n",
      "        [0, 0, 1, 0, 0],\n",
      "        [0, 0, 0, 1, 1]])\n",
      "n_swaps = 5\n",
      "rand_nt = [3, 2, 0, 4, 1]\n",
      "tensor([[0, 0, 0, 0, 0],\n",
      "        [0, 0, 1, 0, 0],\n",
      "        [1, 1, 0, 1, 1],\n",
      "        [0, 0, 0, 0, 0]])\n"
     ]
    }
   ],
   "source": [
    "x = tr.tensor(\n",
    "    [\n",
    "        [1, 0, 0, 0, 0],\n",
    "        [0, 1, 0, 0, 0],\n",
    "        [0, 0, 1, 0, 0],\n",
    "        [0, 0, 0, 1, 1],\n",
    "    ]\n",
    ")\n",
    "print(x) \n",
    "add_noise(x, swaps=1, mode='perc')\n",
    "print(x)"
   ]
  },
  {
   "cell_type": "code",
   "execution_count": null,
   "metadata": {},
   "outputs": [
    {
     "name": "stdout",
     "output_type": "stream",
     "text": [
      "torch.Size([4, 5])\n",
      "tensor([[1, 0, 0, 0, 0],\n",
      "        [0, 1, 0, 0, 0],\n",
      "        [0, 0, 1, 0, 0],\n",
      "        [0, 0, 0, 1, 1]])\n",
      "tensor([[1, 1, 0, 0, 0],\n",
      "        [0, 0, 0, 0, 0],\n",
      "        [0, 0, 0, 0, 0],\n",
      "        [0, 0, 1, 1, 1]])\n"
     ]
    }
   ],
   "source": [
    "x = tr.tensor(\n",
    "    [\n",
    "        [1, 0, 0, 0, 0],\n",
    "        [0, 1, 0, 0, 0],\n",
    "        [0, 0, 1, 0, 0],\n",
    "        [0, 0, 0, 1, 1],\n",
    "    ]\n",
    ")\n",
    "\n",
    "print(x.shape)\n",
    "print(x)\n",
    "\n",
    "x = add_noise(x, swaps=2)\n",
    "print(x)"
   ]
  },
  {
   "cell_type": "code",
   "execution_count": 1,
   "metadata": {},
   "outputs": [
    {
     "name": "stdout",
     "output_type": "stream",
     "text": [
      "0.0\n",
      "0.125\n",
      "0.25\n",
      "0.375\n",
      "0.5\n",
      "0.625\n",
      "0.75\n",
      "0.875\n",
      "1.0\n"
     ]
    }
   ],
   "source": [
    "l = [p/128 for p in range(129)]\n",
    "for i in range(129):\n",
    "    if (i %16 == 0):\n",
    "        print(l[i])"
   ]
  },
  {
   "cell_type": "code",
   "execution_count": null,
   "metadata": {},
   "outputs": [],
   "source": [
    "p=(0.0 0.125 0.25 0.375 0.5 0.625 0.75 0.875 1.0)"
   ]
  },
  {
   "cell_type": "code",
   "execution_count": 1,
   "metadata": {},
   "outputs": [],
   "source": [
    "from src.seq2seq.metrics import compute_metrics\n"
   ]
  },
  {
   "cell_type": "code",
   "execution_count": null,
   "metadata": {},
   "outputs": [
    {
     "data": {
      "text/plain": [
       "torch.Size([1, 4, 4])"
      ]
     },
     "execution_count": 71,
     "metadata": {},
     "output_type": "execute_result"
    }
   ],
   "source": [
    "import torch as tr\n",
    "x = tr.tensor([[\n",
    "    [1.,1.,1.,1.],\n",
    "    [0.,0.,0.,0.],\n",
    "    [0.,0.,0.,0.],\n",
    "    [0.,0.,0.,0.],\n",
    "]])\n",
    "x.shape"
   ]
  },
  {
   "cell_type": "code",
   "execution_count": 67,
   "metadata": {},
   "outputs": [
    {
     "data": {
      "text/plain": [
       "tensor(False)"
      ]
     },
     "execution_count": 67,
     "metadata": {},
     "output_type": "execute_result"
    }
   ],
   "source": [
    "x.all()"
   ]
  },
  {
   "cell_type": "code",
   "execution_count": 174,
   "metadata": {},
   "outputs": [
    {
     "name": "stdout",
     "output_type": "stream",
     "text": [
      "torch.Size([2, 4])\n",
      "torch.Size([2, 3, 4])\n"
     ]
    },
    {
     "data": {
      "text/plain": [
       "tensor([[1., 0., 0.],\n",
       "        [1., 0., 0.],\n",
       "        [1., 0., 0.],\n",
       "        [1., 0., 0.],\n",
       "        [0., 1., 0.],\n",
       "        [1., 0., 0.],\n",
       "        [1., 0., 0.]])"
      ]
     },
     "execution_count": 174,
     "metadata": {},
     "output_type": "execute_result"
    }
   ],
   "source": [
    "x = tr.tensor([\n",
    "    [[1.,1.,1.,0.],\n",
    "     [0.,0.,0.,0.],\n",
    "     [0.,0.,0.,1.],],\n",
    "    [[1.,0.,1.,1.],\n",
    "     [0.,1.,0.,0.],\n",
    "     [0.,0.,0.,0.],]\n",
    "    ])\n",
    "mask = tr.tensor([[True, True, True,False], \n",
    "                  [True, True, True,True],\n",
    "                  ])\n",
    "print(mask.shape)\n",
    "\n",
    "print(x.shape)\n",
    "xt = x.permute(0,2,1)\n",
    "xt[mask]"
   ]
  },
  {
   "cell_type": "code",
   "execution_count": 175,
   "metadata": {},
   "outputs": [
    {
     "data": {
      "text/plain": [
       "tensor([ True,  True,  True, False, False, False,  True])"
      ]
     },
     "execution_count": 175,
     "metadata": {},
     "output_type": "execute_result"
    }
   ],
   "source": [
    "(xt[mask] == xt_[mask] ).all(dim=1)"
   ]
  },
  {
   "cell_type": "code",
   "execution_count": 176,
   "metadata": {},
   "outputs": [
    {
     "name": "stdout",
     "output_type": "stream",
     "text": [
      "torch.Size([2, 3, 4])\n"
     ]
    }
   ],
   "source": [
    "x_ = tr.tensor([\n",
    "    [[1.,1.,1.,0.],\n",
    "     [0.,0.,0.,0.],\n",
    "     [0.,0.,0.,1.],],\n",
    "    [[0.,1.,0.,1.],\n",
    "     [0.,0.,1.,0.],\n",
    "     [1.,0.,0.,0.],]\n",
    "    ])\n",
    "\n",
    "\n",
    "print(x_.shape)\n",
    "xt_ = x_.permute(0,2,1)\n"
   ]
  },
  {
   "cell_type": "code",
   "execution_count": 177,
   "metadata": {},
   "outputs": [
    {
     "name": "stdout",
     "output_type": "stream",
     "text": [
      "torch.Size([2, 4, 3]) torch.Size([2, 4, 3])\n",
      "torch.Size([7, 3]) torch.Size([7, 3])\n",
      "tensor([[[1., 0., 0.],\n",
      "         [1., 0., 0.],\n",
      "         [1., 0., 0.],\n",
      "         [0., 0., 1.]],\n",
      "\n",
      "        [[1., 0., 0.],\n",
      "         [0., 1., 0.],\n",
      "         [1., 0., 0.],\n",
      "         [1., 0., 0.]]])\n",
      "tensor([1., 0., 0.])\n",
      "tensor([1., 0., 0.])\n"
     ]
    },
    {
     "data": {
      "text/plain": [
       "0.5"
      ]
     },
     "execution_count": 177,
     "metadata": {},
     "output_type": "execute_result"
    }
   ],
   "source": [
    "xt_ = x_.permute(0,2,1)\n",
    "xt = x.permute(0,2,1)\n",
    "print(xt.shape, xt_.shape)\n",
    "print(xt[mask].shape, xt_[mask].shape)\n",
    "print(xt)\n",
    "print(xt_[mask][2,:])\n",
    "print( xt[mask][2,:])\n",
    "(xt_ == xt).all(dim=1).all(dim=1).float().mean().item()\n"
   ]
  },
  {
   "cell_type": "code",
   "execution_count": 94,
   "metadata": {},
   "outputs": [],
   "source": [
    "\n",
    "def compute_metrics(x_rec, x_true, mask, output_th=0.5):\n",
    "    xt_rec = (x_rec > output_th).permute(0,2,1)\n",
    "    xt_true = x_true.permute(0,2,1)\n",
    "    acc = (xt_rec[mask] == xt_true[mask]).all(dim=-1).float().mean().item()\n",
    "    return acc"
   ]
  },
  {
   "cell_type": "code",
   "execution_count": 24,
   "metadata": {},
   "outputs": [
    {
     "data": {
      "text/plain": [
       "0.75"
      ]
     },
     "execution_count": 24,
     "metadata": {},
     "output_type": "execute_result"
    }
   ],
   "source": [
    "(x == x_).all(dim=-1).float().mean().item()"
   ]
  },
  {
   "cell_type": "code",
   "execution_count": 50,
   "metadata": {},
   "outputs": [
    {
     "ename": "IndexError",
     "evalue": "boolean index did not match indexed array along axis 0; size of axis is 16 but size of corresponding boolean axis is 4",
     "output_type": "error",
     "traceback": [
      "\u001b[0;31m---------------------------------------------------------------------------\u001b[0m",
      "\u001b[0;31mIndexError\u001b[0m                                Traceback (most recent call last)",
      "Cell \u001b[0;32mIn[50], line 1\u001b[0m\n\u001b[0;32m----> 1\u001b[0m r \u001b[38;5;241m=\u001b[39m \u001b[43mcompute_metrics\u001b[49m\u001b[43m(\u001b[49m\u001b[43mx\u001b[49m\u001b[43m,\u001b[49m\u001b[43mx_\u001b[49m\u001b[43m,\u001b[49m\u001b[43mmask\u001b[49m\u001b[43m)\u001b[49m\n\u001b[1;32m      2\u001b[0m r\n",
      "File \u001b[0;32m~/Documents/Repos/AEseq2seq/src/seq2seq/metrics.py:27\u001b[0m, in \u001b[0;36mcompute_metrics\u001b[0;34m(x_rec, x_true, mask, output_th)\u001b[0m\n\u001b[1;32m     24\u001b[0m \u001b[38;5;66;03m# Real sequence length (binarizado)\u001b[39;00m\n\u001b[1;32m     25\u001b[0m mask_flat \u001b[38;5;241m=\u001b[39m mask\u001b[38;5;241m.\u001b[39mview(\u001b[38;5;241m-\u001b[39m\u001b[38;5;241m1\u001b[39m)\u001b[38;5;241m.\u001b[39mcpu()\u001b[38;5;241m.\u001b[39mnumpy()\u001b[38;5;241m.\u001b[39mastype(\u001b[38;5;28mbool\u001b[39m)\n\u001b[0;32m---> 27\u001b[0m x_true_filtered \u001b[38;5;241m=\u001b[39m \u001b[43mx_true_flat\u001b[49m\u001b[43m[\u001b[49m\u001b[43mmask_flat\u001b[49m\u001b[43m]\u001b[49m\n\u001b[1;32m     28\u001b[0m x_rec_filtered \u001b[38;5;241m=\u001b[39m x_rec_flat[mask_flat]\n\u001b[1;32m     30\u001b[0m \u001b[38;5;66;03m# 1. F1-Score\u001b[39;00m\n",
      "\u001b[0;31mIndexError\u001b[0m: boolean index did not match indexed array along axis 0; size of axis is 16 but size of corresponding boolean axis is 4"
     ]
    }
   ],
   "source": [
    "r = compute_metrics(x,x_,mask)\n",
    "r"
   ]
  },
  {
   "cell_type": "code",
   "execution_count": 55,
   "metadata": {},
   "outputs": [
    {
     "name": "stdout",
     "output_type": "stream",
     "text": [
      "tensor([[[True, True, True, True],\n",
      "         [True, True, True, True],\n",
      "         [True, True, True, True],\n",
      "         [True, True, True, True]]])\n",
      "tensor([[True, True, True, True]])\n",
      "tensor(True)\n",
      "1.0\n"
     ]
    }
   ],
   "source": [
    "# Compara si el vector de cada paso coincide totalmente\n",
    "match = (x == x_) | (mask)  # Ignora posiciones con padding\n",
    "print(match)\n",
    "match_per_step = match.all(dim=-1)         # [B, E] — True si el vector está completamente correcto o era padding\n",
    "print(match_per_step)\n",
    "# Elimina pasos que eran padding completo (i.e. todos los vocab_size con mask = 0)\n",
    "valid_steps = mask.any(dim=-1)           # [B, E] — True si hay al menos una posición relevante\n",
    "print(valid_steps)\n",
    "accuracy = match_per_step[valid_steps].float().mean().item()\n",
    "print(accuracy)"
   ]
  },
  {
   "cell_type": "code",
   "execution_count": 147,
   "metadata": {},
   "outputs": [
    {
     "name": "stdout",
     "output_type": "stream",
     "text": [
      "tensor([[[1., 0., 0.],\n",
      "         [1., 0., 0.],\n",
      "         [1., 0., 0.],\n",
      "         [1., 0., 0.]],\n",
      "\n",
      "        [[1., 0., 0.],\n",
      "         [0., 1., 0.],\n",
      "         [1., 0., 0.],\n",
      "         [1., 0., 0.]]])\n",
      "tensor([[0, 0, 0, 0],\n",
      "        [0, 1, 0, 0]])\n",
      "tensor([[0, 0, 0, 2],\n",
      "        [2, 0, 1, 0]])\n"
     ]
    }
   ],
   "source": [
    "print(xt)\n",
    "# print(xt_)\n",
    "\n",
    "# Obtener el índice de la clase predicha y verdadera\n",
    "pred_idx = xt.argmax(dim=-1)   # [B, L]\n",
    "true_idx = xt_.argmax(dim=-1)  # [B, L]\n",
    "\n",
    "print(pred_idx)\n",
    "print(true_idx)\n",
    "# Aplanar para simplificar\n",
    "pred_flat = pred_idx[mask]   # solo donde mask == True\n",
    "true_flat = true_idx[mask]\n",
    "\n",
    "# print(pred_flat)\n",
    "# print(true_flat)\n",
    "\n",
    "\n",
    "# Métricas\n",
    "TP = (pred_flat == true_flat).sum().item()\n",
    "total = mask.sum().item()\n",
    "\n",
    "accuracy = TP / total if total > 0 else 0.0"
   ]
  },
  {
   "cell_type": "code",
   "execution_count": 5,
   "metadata": {},
   "outputs": [],
   "source": [
    "import pandas as pd\n",
    "from torch.utils.data import Dataset\n",
    "import torch as tr\n",
    "import os\n",
    "import json\n",
    "import pickle\n",
    "import random\n",
    "from src.seq2seq.embeddings import OneHotEmbedding\n",
    "from typing import Union\n",
    "\n",
    "\n",
    "\n",
    "class SeqDataset(Dataset):\n",
    "    def __init__(\n",
    "        self,\n",
    "        dataset_path,\n",
    "        min_len=0,\n",
    "        max_len=512,\n",
    "        verbose=False,\n",
    "        cache_path=None,\n",
    "        for_prediction=False,\n",
    "        training=False,\n",
    "        swaps=0,\n",
    "        mode='perc',\n",
    "        **kargs,\n",
    "    ):\n",
    "        \"\"\"\n",
    "        interaction_prior: none, probmat\n",
    "        \"\"\"\n",
    "        self.max_len = max_len\n",
    "        self.verbose = verbose\n",
    "        if cache_path is not None and not os.path.isdir(cache_path):\n",
    "            os.mkdir(cache_path)\n",
    "        self.cache = cache_path\n",
    "\n",
    "        # Loading dataset\n",
    "        data = pd.read_csv(dataset_path)\n",
    "        self.training = training\n",
    "\n",
    "        assert (\n",
    "            \"sequence\" in data.columns and \"id\" in data.columns\n",
    "        ), \"Dataset should contain 'id' and 'sequence' columns\"\n",
    "\n",
    "        data[\"len\"] = data.sequence.str.len()\n",
    "\n",
    "        if max_len is None:\n",
    "            max_len = max(data.len)\n",
    "        self.max_len = max_len\n",
    "\n",
    "        datalen = len(data)\n",
    "\n",
    "        data = data[(data.len >= min_len) & (data.len <= max_len)]\n",
    "\n",
    "        if len(data) < datalen:\n",
    "            print(\n",
    "                f\"From {datalen} sequences, filtering {min_len} < len < {max_len} we have {len(data)} sequences\"\n",
    "            )\n",
    "\n",
    "        self.sequences = data.sequence.tolist()\n",
    "        self.ids = data.id.tolist()\n",
    "        self.embedding = OneHotEmbedding()\n",
    "        self.embedding_size = self.embedding.emb_size\n",
    "        self.swaps = swaps\n",
    "        self.mode = mode\n",
    "        \n",
    "\n",
    "    def __len__(self):\n",
    "        return len(self.sequences)\n",
    "\n",
    "    def __getitem__(self, idx):\n",
    "        seqid = self.ids[idx]\n",
    "        cache = f\"{self.cache}/{seqid}.pk\"\n",
    "        if (self.cache is not None) and os.path.isfile(cache):\n",
    "            item = pickle.load(open(cache, \"rb\"))\n",
    "        else:\n",
    "            sequence = self.sequences[idx]\n",
    "            L = len(sequence)\n",
    "            seq_emb = self.embedding.seq2emb(sequence)\n",
    "            if self.swaps == 0:\n",
    "                embedding_with_noise = seq_emb\n",
    "            elif self.swaps != 0:\n",
    "                embedding_with_noise = add_noise(seq_emb.clone(), self.swaps)\n",
    "            else:\n",
    "                print('ERROR: swaps < 0')\n",
    "\n",
    "            item = {\n",
    "                \"id\": seqid,\n",
    "                \"length\": L,\n",
    "                \"sequence\": sequence,\n",
    "                \"embedding\": seq_emb,\n",
    "                \"embedding_with_noise\": embedding_with_noise,\n",
    "            }\n",
    "\n",
    "            if self.cache is not None:\n",
    "                pickle.dump(item, open(cache, \"wb\"))\n",
    "\n",
    "        return item\n",
    "\n",
    "\n",
    "def pad_batch(batch, fixed_length=0):\n",
    "    \"\"\"batch is a dictionary with different variables lists\"\"\"\n",
    "    L = [b[\"length\"] for b in batch]\n",
    "    if fixed_length == 0:\n",
    "        fixed_length = max(L)\n",
    "    embedding_pad = tr.zeros((len(batch), batch[0][\"embedding\"].shape[0], fixed_length))\n",
    "    embedding_pad_w_noise = tr.zeros(\n",
    "        (len(batch), batch[0][\"embedding_with_noise\"].shape[0], fixed_length)\n",
    "    )\n",
    "    mask = tr.zeros((len(batch), fixed_length), dtype=tr.bool)\n",
    "\n",
    "    for k in range(len(batch)):\n",
    "        embedding_pad[k, :, : L[k]] = batch[k][\"embedding\"]\n",
    "        embedding_pad_w_noise[k, :, : L[k]] = batch[k][\"embedding_with_noise\"]\n",
    "        mask[k, : L[k]] = 1\n",
    "\n",
    "    out_batch = {\n",
    "        \"id\": [b[\"id\"] for b in batch],\n",
    "        \"length\": L,\n",
    "        \"sequence\": [b[\"sequence\"] for b in batch],\n",
    "        \"embedding\": embedding_pad,\n",
    "        \"embedding_with_noise\": embedding_pad_w_noise,\n",
    "        \"mask\": mask,\n",
    "    }\n",
    "\n",
    "    return out_batch\n",
    "\n",
    "\n",
    "def add_noise(x: tr.Tensor, swaps: Union[int,float] = 0, mode: str = 'perc') -> tr.Tensor:\n",
    "    \"\"\"\n",
    "    Introduces noise into the tensor `x` by modifying some of its columns with random values.\n",
    "\n",
    "    Parameters:\n",
    "    x (torch.Tensor): Input tensor of size (N, len), where N=4 is the number of One-Hot dimension and len is the number of nucleotides.\n",
    "    swaps (int or float, optional): Number of swaps to perform. Can be:\n",
    "        - A positive integer, specifying the exact number of swaps.\n",
    "        - A value between 0 and 1, interpreted as a percentage of the number of columns.\n",
    "        - 0 (default), meaning no changes are made.\n",
    "    mode (str, optional): Interpretation mode of `swaps`.\n",
    "        - 'perc' (default): If `swaps` is 1, all columns are replaced.\n",
    "        - 'int': `swaps` is treated as an absolute number of swaps.\n",
    "\n",
    "    Returns:\n",
    "    torch.Tensor: Modified tensor with added noise.\n",
    "    \"\"\"\n",
    "    len = x.shape[-1]\n",
    "    if swaps == 0:\n",
    "        return x\n",
    "    elif swaps > 0 and swaps < 1: \n",
    "        swaps = round(len * swaps)\n",
    "    elif (mode == 'perc' and swaps == 1) or swaps > len:\n",
    "        swaps = len\n",
    "    \n",
    "    rand_nt = [_ for _ in range(len)]\n",
    "    random.shuffle(rand_nt)\n",
    "    v = [0, 1, 2, 3] \n",
    "    \n",
    "    for i in range(swaps): \n",
    "        nt = tr.zeros([4], dtype=tr.float)\n",
    "        random.shuffle(v)\n",
    "        nt[v[0]] = 1.0\n",
    "        x[:, rand_nt[i]] = nt\n",
    "    return x\n",
    "\n",
    "\n",
    "import torch as tr  \n",
    "\n",
    "\n",
    "def compute_metrics(x_rec, x_true, mask):\n",
    "    \"\"\"\n",
    "    Calculates the F1 score, accuracy (sequence level and threshold),\n",
    "    precision, recall, and perplexity.\n",
    "\n",
    "    Args:\n",
    "        x_rec (torch.Tensor): Reconstructed sequence [N, C, L].\n",
    "        x_true (torch.Tensor): True sequence [N, C, L]. \n",
    "        mask (torch.Tensor): Mask to filter valid sequences [N, C, L].\n",
    "\n",
    "    Returns:\n",
    "        dict: Calculated metrics.\n",
    "    \"\"\"\n",
    "    xt_rec = x_rec.permute(0,2,1)\n",
    "    xt_true = x_true.permute(0,2,1) \n",
    "\n",
    "    # Obtener el índice de la clase predicha y verdadera\n",
    "    pred_idx = xt_rec.argmax(dim=-1)   # [B, L]\n",
    "    true_idx = xt_true.argmax(dim=-1)  # [B, L]\n",
    " \n",
    "    pred_flat = pred_idx[mask]    \n",
    "    true_flat = true_idx[mask]\n",
    " \n",
    "    TP = (pred_flat == true_flat).sum().item()    \n",
    "    \n",
    "    total = mask.sum().item()\n",
    "    accuracy = TP / total if total > 0 else 0.0\n",
    "\n",
    "    FP = FN = (pred_flat != true_flat).sum().item()\n",
    "    precision = TP / (TP + FP) if (TP + FP) > 0 else 0.0\n",
    "    recall    = TP / (TP + FN) if (TP + FN) > 0 else 0.0\n",
    "    f1        = 2 * precision * recall / (precision + recall) if (precision + recall) > 0 else 0.0\n",
    " \n",
    "    seq_accuracy = (x_rec == x_true).all(dim=1).all(dim=1).float().mean().item()\n",
    "\n",
    "    # Devolver todas las métricas\n",
    "    return {\"F1\": f1, \"Accuracy\": accuracy, \"Accuracy_seq\": seq_accuracy}\n"
   ]
  },
  {
   "cell_type": "code",
   "execution_count": 32,
   "metadata": {},
   "outputs": [
    {
     "data": {
      "text/plain": [
       "dict_keys(['id', 'length', 'sequence', 'embedding', 'embedding_with_noise', 'mask'])"
      ]
     },
     "execution_count": 32,
     "metadata": {},
     "output_type": "execute_result"
    }
   ],
   "source": [
    "from functools import partial\n",
    "\n",
    "pad_batch_with_fixed_length = partial(pad_batch, fixed_length=128)\n",
    "dataset_path = '/home/gkulemeyer/Documents/Repos/AEseq2seq/data/ArchiveII-KFold/common/fold_0_test.csv'\n",
    "data = SeqDataset( dataset_path, min_len=0, max_len=512, verbose=False, cache_path=None, for_prediction=False,  training=False, swaps=1)\n",
    "from torch.utils.data import DataLoader\n",
    "\n",
    "loader = DataLoader(data, batch_size=128, shuffle=False,collate_fn=pad_batch_with_fixed_length)\n",
    "\n",
    "l = next(iter(loader))\n",
    "l.keys()"
   ]
  },
  {
   "cell_type": "code",
   "execution_count": 33,
   "metadata": {},
   "outputs": [
    {
     "name": "stdout",
     "output_type": "stream",
     "text": [
      "torch.Size([128, 4, 128])\n",
      "torch.Size([128, 4, 128])\n",
      "torch.Size([128, 128])\n"
     ]
    }
   ],
   "source": [
    "print(l['embedding'].shape)\n",
    "print(l['embedding_with_noise'].shape)\n",
    "print(l['mask'].shape)"
   ]
  },
  {
   "cell_type": "code",
   "execution_count": 34,
   "metadata": {},
   "outputs": [
    {
     "data": {
      "text/plain": [
       "{'F1': 0.2523894630507421, 'Accuracy': 0.2523894630507421, 'Accuracy_seq': 0.0}"
      ]
     },
     "execution_count": 34,
     "metadata": {},
     "output_type": "execute_result"
    }
   ],
   "source": [
    "compute_metrics(l['embedding'], l['embedding_with_noise'], l['mask'])"
   ]
  },
  {
   "cell_type": "code",
   "execution_count": null,
   "metadata": {},
   "outputs": [],
   "source": [
    "compute_metrics(l)"
   ]
  }
 ],
 "metadata": {
  "kernelspec": {
   "display_name": "seq2seq",
   "language": "python",
   "name": "python3"
  },
  "language_info": {
   "codemirror_mode": {
    "name": "ipython",
    "version": 3
   },
   "file_extension": ".py",
   "mimetype": "text/x-python",
   "name": "python",
   "nbconvert_exporter": "python",
   "pygments_lexer": "ipython3",
   "version": "3.9.21"
  }
 },
 "nbformat": 4,
 "nbformat_minor": 2
}
