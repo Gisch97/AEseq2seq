{
 "cells": [
  {
   "cell_type": "code",
   "execution_count": 8,
   "metadata": {},
   "outputs": [
    {
     "name": "stdout",
     "output_type": "stream",
     "text": [
      "[4, 5, 9, 8, 0, 6, 3, 7, 2, 1]\n"
     ]
    }
   ],
   "source": [
    "import random\n",
    "\n",
    "lista = list(range(10))\n",
    "random.shuffle(lista)\n",
    "print(lista)"
   ]
  },
  {
   "cell_type": "code",
   "execution_count": null,
   "metadata": {},
   "outputs": [
    {
     "data": {
      "text/plain": [
       "tensor([ 51,  52,  53,  54,  55,  56,  57,  58,  59,  60,  61,  62,  63,  64,\n",
       "         65,  66,  67,  68,  69,  70,  71,  72,  73,  74,  75,  76,  77,  78,\n",
       "         79,  80,  81,  82,  83,  84,  85,  86,  87,  88,  89,  90,  91,  92,\n",
       "         93,  94,  95,  96,  97,  98,  99, 100, 101, 102, 103, 104, 105, 106,\n",
       "        107, 108, 109, 110, 111, 112, 113, 114, 115, 116, 117, 118, 119, 120,\n",
       "        121, 122, 123, 124, 125, 126, 127])"
      ]
     },
     "execution_count": 18,
     "metadata": {},
     "output_type": "execute_result"
    }
   ],
   "source": [
    "import torch\n",
    "\n",
    "x = torch.arange(128).reshape(2, 128)  # Tensor de 1 x 128\n",
    "sub_tensor = x[:, 10:20]  # Toma de la columna 10 a la 19\n",
    "sub_tensor\n",
    "mask = x > 50  # Máscara con True donde el valor es mayor que 50\n",
    "mask\n",
    "x[mask]"
   ]
  },
  {
   "cell_type": "code",
   "execution_count": 23,
   "metadata": {},
   "outputs": [
    {
     "name": "stdout",
     "output_type": "stream",
     "text": [
      "[2, 3, 1, 4, 6, 8, 0, 7, 9, 5]\n",
      "[2, 4, 6]\n"
     ]
    }
   ],
   "source": [
    "import random\n",
    "\n",
    "\n",
    "def select_indices_no_adjacent(length, n_swap):\n",
    "    candidatos = list(range(length))\n",
    "    random.shuffle(candidatos)\n",
    "    seleccionados = []\n",
    "    print(candidatos)\n",
    "    for idx in candidatos:\n",
    "        if len(seleccionados) >= n_swap:\n",
    "            break\n",
    "        # Verificamos que no haya conflicto: que idx no sea adyacente a ninguno ya seleccionado.\n",
    "        if any(abs(idx - s) == 1 for s in seleccionados):\n",
    "            continue\n",
    "        seleccionados.append(idx)\n",
    "    return sorted(seleccionados)\n",
    "\n",
    "\n",
    "# Ejemplo: seleccionar 3 índices de 0 a 9 sin consecutivos\n",
    "print(select_indices_no_adjacent(10, 3))"
   ]
  },
  {
   "cell_type": "code",
   "execution_count": 34,
   "metadata": {},
   "outputs": [
    {
     "name": "stdout",
     "output_type": "stream",
     "text": [
      "tensor([[False,  True, False, False,  True, False, False,  True, False]])\n",
      "tensor([3])\n"
     ]
    }
   ],
   "source": [
    "import torch\n",
    "import random\n",
    "\n",
    "\n",
    "def generate_swap_mask(batch_size, seq_length=10, n_swap=4):\n",
    "    \"\"\"\n",
    "    Genera una máscara de swaps (bool) de forma [batch_size, seq_length - 1]\n",
    "    con exactamente n_swap 'True' por batch sin que se solapen (índices consecutivos).\n",
    "    \"\"\"\n",
    "    mask = torch.zeros((batch_size, seq_length - 1), dtype=torch.bool)\n",
    "\n",
    "    # Para cada elemento del batch, seleccionamos n_swap índices válidos\n",
    "    for b in range(batch_size):\n",
    "        candidatos = list(range(seq_length - 1))\n",
    "        random.shuffle(candidatos)\n",
    "        seleccionados = []\n",
    "        for idx in candidatos:\n",
    "            if len(seleccionados) >= n_swap:\n",
    "                break\n",
    "            # Evitamos adyacencia\n",
    "            if any(abs(idx - s) == 1 for s in seleccionados):\n",
    "                continue\n",
    "            seleccionados.append(idx)\n",
    "        seleccionados.sort()\n",
    "        # Asignamos los índices seleccionados en la máscara para el batch b\n",
    "        mask[b, seleccionados] = True\n",
    "    return mask\n",
    "\n",
    "\n",
    "# Ejemplo simple:\n",
    "batch_size = 1\n",
    "n_swap = 4\n",
    "mask = generate_swap_mask(batch_size, seq_length=10, n_swap=n_swap)\n",
    "print(mask)\n",
    "print(mask.sum(dim=1))  # Debe imprimir [10, 10]"
   ]
  },
  {
   "cell_type": "code",
   "execution_count": 36,
   "metadata": {},
   "outputs": [
    {
     "name": "stdout",
     "output_type": "stream",
     "text": [
      "tensor([0, 1, 0, 0, 1, 0, 0, 1], dtype=torch.int32)\n",
      "tensor([1, 0, 0, 1, 0, 0, 1, 0], dtype=torch.int32)\n",
      "tensor([1, 1, 0, 1, 1, 0, 1, 1], dtype=torch.int32)\n",
      "Restricción sin adyacentes: True\n"
     ]
    }
   ],
   "source": [
    "def check_no_adjacent(mask):\n",
    "    # Recorre cada fila y chequea que no existan dos True consecutivos.\n",
    "    for b in range(mask.size(0)):\n",
    "        row = mask[b].int()\n",
    "        print(row[:-1])\n",
    "        print(row[1:])\n",
    "        print(row[:-1] + row[1:])\n",
    "        # Se hace un desplazamiento para comparar elemento i y i+1\n",
    "        if ((row[:-1] + row[1:]) > 1).any():\n",
    "            return False\n",
    "    return True\n",
    "\n",
    "\n",
    "print(\"Restricción sin adyacentes:\", check_no_adjacent(mask))"
   ]
  },
  {
   "cell_type": "code",
   "execution_count": 6,
   "metadata": {},
   "outputs": [
    {
     "name": "stdout",
     "output_type": "stream",
     "text": [
      "x:\n",
      " tensor([[0, 1, 2, 3, 4, 5, 6, 7, 8, 9]])\n",
      "\n",
      "mask:\n",
      " tensor([[ True, False,  True, False,  True, False,  True, False,  True]])\n",
      "\n",
      "y (x con swaps):\n",
      " tensor([[1, 0, 3, 2, 5, 4, 7, 6, 9, 8]])\n"
     ]
    }
   ],
   "source": [
    "import torch, random\n",
    "\n",
    "\n",
    "def gen_mask_single(length, n):\n",
    "    if n > (length + 1) // 2:\n",
    "        raise ValueError(\"Número de swaps demasiado alto\")\n",
    "    # Selecciona índices sin consecutividad usando \"stars and bars\"\n",
    "    indices = sorted(random.sample(range(length - n + 1), n))\n",
    "    indices = [x + i for i, x in enumerate(indices)]\n",
    "    mask = [False] * length\n",
    "    for i in indices:\n",
    "        mask[i] = True\n",
    "    return mask\n",
    "\n",
    "\n",
    "def gen_mask(batch, length, n):\n",
    "    return torch.tensor(\n",
    "        [gen_mask_single(length, n) for _ in range(batch)], dtype=torch.bool\n",
    "    )\n",
    "\n",
    "\n",
    "def apply_swap(x, mask):\n",
    "    y = x.clone()\n",
    "    for i in range(mask.shape[1]):\n",
    "        idx = torch.where(mask[:, i])[0]\n",
    "        if idx.numel():\n",
    "            temp = y[idx, i].clone()\n",
    "            y[idx, i] = y[idx, i + 1]\n",
    "            y[idx, i + 1] = temp\n",
    "    return y\n",
    "\n",
    "\n",
    "batch = 1\n",
    "n_swaps = 5  # Número exacto de swaps por secuencia (máximo 64 para 127 posiciones)\n",
    "x = torch.stack([torch.arange(10) for _ in range(batch)], dim=0)\n",
    "mask = gen_mask(batch, 9, n_swaps)\n",
    "y = apply_swap(x, mask)\n",
    "\n",
    "print(\"x:\\n\", x)\n",
    "print(\"\\nmask:\\n\", mask)\n",
    "print(\"\\ny (x con swaps):\\n\", y)"
   ]
  },
  {
   "cell_type": "code",
   "execution_count": 7,
   "metadata": {},
   "outputs": [
    {
     "name": "stdout",
     "output_type": "stream",
     "text": [
      "x:\n",
      " tensor([[[0, 1, 2, 3, 4, 5, 6, 7, 8, 9],\n",
      "         [0, 1, 2, 3, 4, 5, 6, 7, 8, 9]]])\n",
      "\n",
      "mask:\n",
      " tensor([[[False, False, False, False,  True, False, False, False, False],\n",
      "         [False, False, False, False, False, False, False,  True, False]]])\n",
      "\n",
      "y (x con swaps):\n",
      " tensor([[[0, 1, 2, 3, 5, 4, 6, 7, 8, 9],\n",
      "         [0, 1, 2, 3, 4, 5, 6, 8, 7, 9]]])\n"
     ]
    }
   ],
   "source": [
    "import torch, random\n",
    "\n",
    "\n",
    "def gen_mask_single(length, n):\n",
    "    if n > (length + 1) // 2:\n",
    "        raise ValueError(\"Número de swaps demasiado alto\")\n",
    "    inds = sorted(random.sample(range(length - n + 1), n))\n",
    "    inds = [x + i for i, x in enumerate(inds)]\n",
    "    mask = [False] * length\n",
    "    for i in inds:\n",
    "        mask[i] = True\n",
    "    return mask\n",
    "\n",
    "\n",
    "def gen_mask(batch, emb, length, n):\n",
    "    # 'length' es la longitud de la máscara (para 128 elementos, length=127)\n",
    "    return torch.tensor(\n",
    "        [[gen_mask_single(length, n) for _ in range(emb)] for _ in range(batch)],\n",
    "        dtype=torch.bool,\n",
    "    )\n",
    "\n",
    "\n",
    "def apply_swap(x, mask):\n",
    "    # x: [batch, embedding, 128], mask: [batch, embedding, 127]\n",
    "    y = x.clone()\n",
    "    for i in range(mask.shape[-1]):  # i de 0 a 126\n",
    "        idx0, idx1 = torch.where(mask[:, :, i])\n",
    "        if idx0.numel():\n",
    "            tmp = y[idx0, idx1, i].clone()\n",
    "            y[idx0, idx1, i] = y[idx0, idx1, i + 1]\n",
    "            y[idx0, idx1, i + 1] = tmp\n",
    "    return y\n",
    "\n",
    "\n",
    "# Ejemplo\n",
    "batch, emb, len_x = 1, 2, 10\n",
    "n_swaps = 1  # Número exacto de swaps por secuencia (máximo 64 para 127 posiciones)\n",
    "mask = gen_mask(batch, emb, len_x - 1, n_swaps)\n",
    "x = torch.stack(\n",
    "    [\n",
    "        torch.stack([torch.arange(len_x) for _ in range(emb)], dim=0)\n",
    "        for _ in range(batch)\n",
    "    ],\n",
    "    dim=0,\n",
    ")\n",
    "y = apply_swap(x, mask)\n",
    "\n",
    "print(\"x:\\n\", x)\n",
    "print(\"\\nmask:\\n\", mask)\n",
    "print(\"\\ny (x con swaps):\\n\", y)"
   ]
  },
  {
   "cell_type": "code",
   "execution_count": 37,
   "metadata": {},
   "outputs": [
    {
     "data": {
      "text/plain": [
       "torch.Size([1, 4, 5])"
      ]
     },
     "execution_count": 37,
     "metadata": {},
     "output_type": "execute_result"
    }
   ],
   "source": [
    "import torch as tr\n",
    "\n",
    "x = tr.tensor(\n",
    "    [\n",
    "        [\n",
    "            [1, 0, 0, 0, 0],\n",
    "            [0, 0, 1, 0, 0],\n",
    "            [0, 0, 0, 1, 0],\n",
    "            [0, 1, 0, 0, 1],\n",
    "        ]\n",
    "    ]\n",
    ")\n",
    "x.shape"
   ]
  },
  {
   "cell_type": "code",
   "execution_count": 62,
   "metadata": {},
   "outputs": [
    {
     "name": "stdout",
     "output_type": "stream",
     "text": [
      "tensor([[1, 0, 0, 0, 0],\n",
      "        [0, 0, 1, 0, 0],\n",
      "        [0, 0, 0, 1, 0],\n",
      "        [0, 1, 0, 0, 1]])\n",
      "tensor([[1, 1, 0, 0, 0],\n",
      "        [0, 0, 1, 0, 0],\n",
      "        [0, 0, 0, 1, 0],\n",
      "        [0, 0, 0, 0, 1]])\n"
     ]
    }
   ],
   "source": [
    "import random\n",
    "\n",
    "import torch as tr\n",
    "\n",
    "x = tr.tensor(\n",
    "    [\n",
    "        [1, 0, 0, 0, 0],\n",
    "        [0, 0, 1, 0, 0],\n",
    "        [0, 0, 0, 1, 0],\n",
    "        [0, 1, 0, 0, 1],\n",
    "    ]\n",
    ")\n",
    "x.shape\n",
    "\n",
    "x_l = [_ for _ in range(x.shape[-1])]\n",
    "random.shuffle(x_l)\n",
    "v = [0, 1, 2, 3]\n",
    "\n",
    "x2 = x\n",
    "print(x2)\n",
    "N = 2\n",
    "for s in range(N):\n",
    "    nt = x_l[-1]\n",
    "    x_l.pop()\n",
    "    random.shuffle(v)\n",
    "    val = tr.zeros([4], dtype=tr.float)\n",
    "    val[v[0]] = 1.0\n",
    "    x[:, nt] = val\n",
    "print(x2)"
   ]
  },
  {
   "cell_type": "code",
   "execution_count": 74,
   "metadata": {},
   "outputs": [],
   "source": [
    "def noise(x, N=0):\n",
    "    assert N < x.shape[-1], \"N should be lower than the shape of x (starting on 0)\"\n",
    "    x_l = [_ for _ in range(x.shape[-1])]\n",
    "    random.shuffle(x_l)\n",
    "    v = [0, 1, 2, 3]\n",
    "\n",
    "    for _ in range(N):\n",
    "        pos = x_l[-1]\n",
    "        x_l.pop()\n",
    "        random.shuffle(v)\n",
    "        nt = tr.zeros([4], dtype=tr.float)\n",
    "        nt[v[0]] = 1.0\n",
    "        x[:, pos] = nt\n",
    "    return x"
   ]
  },
  {
   "cell_type": "code",
   "execution_count": 76,
   "metadata": {},
   "outputs": [
    {
     "name": "stdout",
     "output_type": "stream",
     "text": [
      "torch.Size([4, 5])\n",
      "tensor([[0, 0, 0, 1, 0],\n",
      "        [0, 0, 1, 0, 0],\n",
      "        [1, 1, 0, 0, 1],\n",
      "        [0, 0, 0, 0, 0]])\n"
     ]
    }
   ],
   "source": [
    "x = tr.tensor(\n",
    "    [\n",
    "        [1, 0, 0, 0, 0],\n",
    "        [0, 0, 1, 0, 0],\n",
    "        [0, 0, 0, 1, 0],\n",
    "        [0, 1, 0, 0, 1],\n",
    "    ]\n",
    ")\n",
    "print(x.shape)\n",
    "\n",
    "x = noise(x, N=4)\n",
    "print(x)"
   ]
  },
  {
   "cell_type": "code",
   "execution_count": 2,
   "metadata": {},
   "outputs": [],
   "source": [
    "from src.seq2seq.dataset import SeqDataset\n",
    "from torch.utils.data import DataLoader\n",
    "import pandas as pd"
   ]
  },
  {
   "cell_type": "code",
   "execution_count": null,
   "metadata": {},
   "outputs": [],
   "source": []
  }
 ],
 "metadata": {
  "kernelspec": {
   "display_name": "seq2seq",
   "language": "python",
   "name": "python3"
  },
  "language_info": {
   "codemirror_mode": {
    "name": "ipython",
    "version": 3
   },
   "file_extension": ".py",
   "mimetype": "text/x-python",
   "name": "python",
   "nbconvert_exporter": "python",
   "pygments_lexer": "ipython3",
   "version": "3.9.21"
  }
 },
 "nbformat": 4,
 "nbformat_minor": 2
}
