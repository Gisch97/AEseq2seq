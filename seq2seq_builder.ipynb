{
 "cells": [
  {
   "cell_type": "markdown",
   "metadata": {},
   "source": [
    "# Seq2Seq Builder\n"
   ]
  },
  {
   "cell_type": "markdown",
   "metadata": {},
   "source": [
    "In this notebook we will see how to build a Seq2Seq model, to construct the source code of the seq2seq model, and also drop anything useless.\n",
    "\n",
    "For that, we will use the following imports:\n",
    "- from seq2seq.data import SeqDataset\n",
    "- from seq2seq.embeddings import OneHotEmbedding\n",
    "- from seq2seq.parser import parser"
   ]
  },
  {
   "cell_type": "code",
   "execution_count": 35,
   "metadata": {},
   "outputs": [],
   "source": [
    "from src.seq2seq.dataset import SeqDataset "
   ]
  },
  {
   "cell_type": "code",
   "execution_count": 2,
   "metadata": {},
   "outputs": [
    {
     "name": "stdout",
     "output_type": "stream",
     "text": [
      "Working on ./build_test/build_AE_seq2seq.csv\n"
     ]
    },
    {
     "ename": "TypeError",
     "evalue": "__init__() missing 1 required positional argument: 'c'",
     "output_type": "error",
     "traceback": [
      "\u001b[0;31m---------------------------------------------------------------------------\u001b[0m",
      "\u001b[0;31mTypeError\u001b[0m                                 Traceback (most recent call last)",
      "Cell \u001b[0;32mIn[2], line 35\u001b[0m\n\u001b[1;32m     27\u001b[0m config\u001b[38;5;241m.\u001b[39mupdate({\n\u001b[1;32m     28\u001b[0m     \u001b[38;5;124m\"\u001b[39m\u001b[38;5;124mbatch_size\u001b[39m\u001b[38;5;124m\"\u001b[39m: args\u001b[38;5;241m.\u001b[39mbatch_size,\n\u001b[1;32m     29\u001b[0m     \u001b[38;5;124m\"\u001b[39m\u001b[38;5;124mmax_len\u001b[39m\u001b[38;5;124m\"\u001b[39m: args\u001b[38;5;241m.\u001b[39mmax_length,\n\u001b[1;32m     30\u001b[0m     \u001b[38;5;124m\"\u001b[39m\u001b[38;5;124mcache_path\u001b[39m\u001b[38;5;124m\"\u001b[39m: \u001b[38;5;28;01mNone\u001b[39;00m \u001b[38;5;28;01mif\u001b[39;00m args\u001b[38;5;241m.\u001b[39mno_cache \u001b[38;5;28;01melse\u001b[39;00m \u001b[38;5;124m\"\u001b[39m\u001b[38;5;124mcache/\u001b[39m\u001b[38;5;124m\"\u001b[39m,\n\u001b[1;32m     31\u001b[0m     \u001b[38;5;124m\"\u001b[39m\u001b[38;5;124mmax_epochs\u001b[39m\u001b[38;5;124m\"\u001b[39m: args\u001b[38;5;241m.\u001b[39mmax_epochs\n\u001b[1;32m     32\u001b[0m })\n\u001b[1;32m     34\u001b[0m \u001b[38;5;66;03m# Llamar a train con los argumentos\u001b[39;00m\n\u001b[0;32m---> 35\u001b[0m \u001b[43mtrain\u001b[49m\u001b[43m(\u001b[49m\n\u001b[1;32m     36\u001b[0m \u001b[43m    \u001b[49m\u001b[43mtrain_file\u001b[49m\u001b[38;5;241;43m=\u001b[39;49m\u001b[43margs\u001b[49m\u001b[38;5;241;43m.\u001b[39;49m\u001b[43mtrain_file\u001b[49m\u001b[43m,\u001b[49m\n\u001b[1;32m     37\u001b[0m \u001b[43m    \u001b[49m\u001b[43mconfig\u001b[49m\u001b[38;5;241;43m=\u001b[39;49m\u001b[43mconfig\u001b[49m\u001b[43m,\u001b[49m\n\u001b[1;32m     38\u001b[0m \u001b[43m    \u001b[49m\u001b[43mout_path\u001b[49m\u001b[38;5;241;43m=\u001b[39;49m\u001b[43margs\u001b[49m\u001b[38;5;241;43m.\u001b[39;49m\u001b[43mout_path\u001b[49m\u001b[43m,\u001b[49m\n\u001b[1;32m     39\u001b[0m \u001b[43m    \u001b[49m\u001b[43mvalid_file\u001b[49m\u001b[38;5;241;43m=\u001b[39;49m\u001b[43margs\u001b[49m\u001b[38;5;241;43m.\u001b[39;49m\u001b[43mvalid_file\u001b[49m\u001b[43m,\u001b[49m\n\u001b[1;32m     40\u001b[0m \u001b[43m    \u001b[49m\u001b[43mnworkers\u001b[49m\u001b[38;5;241;43m=\u001b[39;49m\u001b[43margs\u001b[49m\u001b[38;5;241;43m.\u001b[39;49m\u001b[43mnum_workers\u001b[49m\n\u001b[1;32m     41\u001b[0m \u001b[43m)\u001b[49m\n",
      "File \u001b[0;32m~/Documents/SINC/RNA/AEseq2seq/src/seq2seq/__init__.py:103\u001b[0m, in \u001b[0;36mtrain\u001b[0;34m(train_file, config, out_path, valid_file, nworkers, verbose)\u001b[0m\n\u001b[1;32m     88\u001b[0m train_loader \u001b[38;5;241m=\u001b[39m DataLoader(\n\u001b[1;32m     89\u001b[0m     SeqDataset(train_file, training\u001b[38;5;241m=\u001b[39m\u001b[38;5;28;01mTrue\u001b[39;00m, \u001b[38;5;241m*\u001b[39m\u001b[38;5;241m*\u001b[39mconfig),\n\u001b[1;32m     90\u001b[0m     batch_size\u001b[38;5;241m=\u001b[39mbatch_size, \n\u001b[0;32m   (...)\u001b[0m\n\u001b[1;32m     93\u001b[0m     collate_fn\u001b[38;5;241m=\u001b[39mpad_batch\n\u001b[1;32m     94\u001b[0m )\n\u001b[1;32m     95\u001b[0m valid_loader \u001b[38;5;241m=\u001b[39m DataLoader(\n\u001b[1;32m     96\u001b[0m     SeqDataset(valid_file, \u001b[38;5;241m*\u001b[39m\u001b[38;5;241m*\u001b[39mconfig),\n\u001b[1;32m     97\u001b[0m     batch_size\u001b[38;5;241m=\u001b[39mbatch_size,\n\u001b[0;32m   (...)\u001b[0m\n\u001b[1;32m    100\u001b[0m     collate_fn\u001b[38;5;241m=\u001b[39mpad_batch,\n\u001b[1;32m    101\u001b[0m )\n\u001b[0;32m--> 103\u001b[0m net \u001b[38;5;241m=\u001b[39m \u001b[43mseq2seq\u001b[49m\u001b[43m(\u001b[49m\u001b[43mtrain_len\u001b[49m\u001b[38;5;241;43m=\u001b[39;49m\u001b[38;5;28;43mlen\u001b[39;49m\u001b[43m(\u001b[49m\u001b[43mtrain_loader\u001b[49m\u001b[43m)\u001b[49m\u001b[43m,\u001b[49m\u001b[43m \u001b[49m\u001b[38;5;241;43m*\u001b[39;49m\u001b[38;5;241;43m*\u001b[39;49m\u001b[43mconfig\u001b[49m\u001b[43m)\u001b[49m\n\u001b[1;32m    105\u001b[0m best_f1, patience_counter \u001b[38;5;241m=\u001b[39m \u001b[38;5;241m-\u001b[39m\u001b[38;5;241m1\u001b[39m, \u001b[38;5;241m0\u001b[39m\n\u001b[1;32m    106\u001b[0m patience \u001b[38;5;241m=\u001b[39m config[\u001b[38;5;124m\"\u001b[39m\u001b[38;5;124mpatience\u001b[39m\u001b[38;5;124m\"\u001b[39m] \u001b[38;5;28;01mif\u001b[39;00m \u001b[38;5;124m\"\u001b[39m\u001b[38;5;124mpatience\u001b[39m\u001b[38;5;124m\"\u001b[39m \u001b[38;5;129;01min\u001b[39;00m config \u001b[38;5;28;01melse\u001b[39;00m \u001b[38;5;241m30\u001b[39m\n",
      "File \u001b[0;32m~/Documents/SINC/RNA/AEseq2seq/src/seq2seq/model.py:19\u001b[0m, in \u001b[0;36mseq2seq\u001b[0;34m(weights, **kwargs)\u001b[0m\n\u001b[1;32m     12\u001b[0m \u001b[38;5;28;01mdef\u001b[39;00m \u001b[38;5;21mseq2seq\u001b[39m(weights\u001b[38;5;241m=\u001b[39m\u001b[38;5;28;01mNone\u001b[39;00m, \u001b[38;5;241m*\u001b[39m\u001b[38;5;241m*\u001b[39mkwargs): \n\u001b[1;32m     13\u001b[0m \u001b[38;5;250m    \u001b[39m\u001b[38;5;124;03m\"\"\" \u001b[39;00m\n\u001b[1;32m     14\u001b[0m \u001b[38;5;124;03m    seq2seq: a deep learning-based autoencoder for RNA sequence to sequence prediction.\u001b[39;00m\n\u001b[1;32m     15\u001b[0m \u001b[38;5;124;03m    weights (str): Path to weights file\u001b[39;00m\n\u001b[1;32m     16\u001b[0m \u001b[38;5;124;03m    **kwargs: Model hyperparameters\u001b[39;00m\n\u001b[1;32m     17\u001b[0m \u001b[38;5;124;03m    \"\"\"\u001b[39;00m\n\u001b[0;32m---> 19\u001b[0m     model \u001b[38;5;241m=\u001b[39m \u001b[43mSeq2Seq\u001b[49m\u001b[43m(\u001b[49m\u001b[38;5;241;43m*\u001b[39;49m\u001b[38;5;241;43m*\u001b[39;49m\u001b[43mkwargs\u001b[49m\u001b[43m)\u001b[49m\n\u001b[1;32m     20\u001b[0m     \u001b[38;5;28;01mif\u001b[39;00m weights \u001b[38;5;129;01mis\u001b[39;00m \u001b[38;5;129;01mnot\u001b[39;00m \u001b[38;5;28;01mNone\u001b[39;00m:\n\u001b[1;32m     21\u001b[0m         \u001b[38;5;28mprint\u001b[39m(\u001b[38;5;124mf\u001b[39m\u001b[38;5;124m\"\u001b[39m\u001b[38;5;124mLoad weights from \u001b[39m\u001b[38;5;132;01m{\u001b[39;00mweights\u001b[38;5;132;01m}\u001b[39;00m\u001b[38;5;124m\"\u001b[39m)\n",
      "\u001b[0;31mTypeError\u001b[0m: __init__() missing 1 required positional argument: 'c'"
     ]
    }
   ],
   "source": [
    "from src.seq2seq import train\n",
    "from src.seq2seq.model import ModelConfig\n",
    "from types import SimpleNamespace\n",
    "\n",
    "# Mantener tus argumentos como los tenías\n",
    "args = SimpleNamespace(\n",
    "    device='cpu',\n",
    "    batch_size=4,\n",
    "    max_length=512,\n",
    "    num_workers=2,\n",
    "    quiet=False,\n",
    "    command='train',\n",
    "    train_file='data/ArchiveII.csv',\n",
    "    valid_file=None,\n",
    "    out_path='./build_test/build_AE_seq2seq.csv',\n",
    "    max_epochs=1,\n",
    "    no_cache=False\n",
    ")\n",
    "\n",
    "# Crear el diccionario de configuración usando ModelConfig como base\n",
    "config = vars(ModelConfig(\n",
    "    device=args.device,\n",
    "    verbose=not args.quiet\n",
    "))\n",
    "\n",
    "# Agregar los parámetros adicionales que no son parte de ModelConfig\n",
    "config.update({\n",
    "    \"batch_size\": args.batch_size,\n",
    "    \"max_len\": args.max_length,\n",
    "    \"cache_path\": None if args.no_cache else \"cache/\",\n",
    "    \"max_epochs\": args.max_epochs\n",
    "})\n",
    "\n",
    "# Llamar a train con los argumentos\n",
    "train(\n",
    "    train_file=args.train_file,\n",
    "    config=config,\n",
    "    out_path=args.out_path,\n",
    "    valid_file=args.valid_file,\n",
    "    nworkers=args.num_workers\n",
    ")"
   ]
  },
  {
   "cell_type": "code",
   "execution_count": 62,
   "metadata": {},
   "outputs": [],
   "source": [
    "from torch.utils.data import DataLoader\n",
    "from src.seq2seq.dataset import SeqDataset, pad_batch\n",
    "    \n",
    "train_loader = DataLoader(\n",
    "    SeqDataset(args.train_file, training=True, **config),\n",
    "    batch_size=args.batch_size, \n",
    "    shuffle=True,\n",
    "    num_workers=args.num_workers,\n",
    "    collate_fn=pad_batch\n",
    ")"
   ]
  },
  {
   "cell_type": "code",
   "execution_count": 66,
   "metadata": {},
   "outputs": [
    {
     "data": {
      "text/plain": [
       "966"
      ]
     },
     "execution_count": 66,
     "metadata": {},
     "output_type": "execute_result"
    }
   ],
   "source": [
    "len(train_loader)"
   ]
  }
 ],
 "metadata": {
  "kernelspec": {
   "display_name": "sincfold",
   "language": "python",
   "name": "python3"
  },
  "language_info": {
   "codemirror_mode": {
    "name": "ipython",
    "version": 3
   },
   "file_extension": ".py",
   "mimetype": "text/x-python",
   "name": "python",
   "nbconvert_exporter": "python",
   "pygments_lexer": "ipython3",
   "version": "3.9.19"
  }
 },
 "nbformat": 4,
 "nbformat_minor": 2
}
